{
 "cells": [
  {
   "cell_type": "code",
   "execution_count": 2,
   "id": "463b0939",
   "metadata": {},
   "outputs": [],
   "source": [
    "# Importing Keras Library\n",
    "import keras\n",
    "# Importing ImageDataGenerator class from keras\n",
    "from keras.preprocessing.image import ImageDataGenerator"
   ]
  },
  {
   "cell_type": "code",
   "execution_count": 3,
   "id": "943f8f3e",
   "metadata": {},
   "outputs": [],
   "source": [
    "# Define the parameters / arguments for ImageDataGenerator class\n",
    "train_datagen= ImageDataGenerator(rescale=1./255,\n",
    "                                  shear_range=0.2,\n",
    "                                  rotation_range=180,\n",
    "                                  horizontal_flip=True,\n",
    "                                  zoom_range=0.2)\n",
    "test_datagen= ImageDataGenerator(rescale=1./255)"
   ]
  },
  {
   "cell_type": "code",
   "execution_count": 5,
   "id": "c7052e81",
   "metadata": {},
   "outputs": [
    {
     "name": "stdout",
     "output_type": "stream",
     "text": [
      "Found 240 images belonging to 2 classes.\n"
     ]
    }
   ],
   "source": [
    "#Applying ImageDataGenerator functionality to training_set\n",
    "x_train=train_datagen.flow_from_directory('C:\\\\Users\\\\mohan\\\\Downloads\\\\trainset',\n",
    "                                          target_size=(64,64),batch_size=32,\n",
    "                                          class_mode='binary')\n",
    "# Note if more than 2 categories class_mode='categorical'\n",
    "# Note Change your Directory path before executing this Cell"
   ]
  },
  {
   "cell_type": "code",
   "execution_count": 7,
   "id": "7c745925",
   "metadata": {},
   "outputs": [
    {
     "name": "stdout",
     "output_type": "stream",
     "text": [
      "Found 60 images belonging to 2 classes.\n"
     ]
    }
   ],
   "source": [
    "# Applying ImageDataGenerator functionality to testing_set\n",
    "x_test=train_datagen.flow_from_directory('C:\\\\Users\\\\mohan\\\\Downloads\\\\testset',\n",
    "                                         target_size=(64,64),batch_size=32,\n",
    "                                         class_mode='binary')\n",
    "# Note if more than 2 categories class_mode='categorical'\n",
    "# Note Change your Directory path before executing this Cell"
   ]
  },
  {
   "cell_type": "code",
   "execution_count": 8,
   "id": "69432b3a",
   "metadata": {},
   "outputs": [
    {
     "name": "stdout",
     "output_type": "stream",
     "text": [
      "{'Found Missing': 0, 'Normal': 1}\n"
     ]
    }
   ],
   "source": [
    "print(x_train.class_indices)"
   ]
  },
  {
   "cell_type": "code",
   "execution_count": 9,
   "id": "5271f21b",
   "metadata": {},
   "outputs": [],
   "source": [
    "# Importing Model Building Libraries\n",
    "# To define linear intialisation import sequential\n",
    "from tensorflow.keras.models import Sequential\n",
    "# To add Hidden layers import Dense\n",
    "from tensorflow.keras.layers import Dense\n",
    "# To Create Convolution Layer import convolution2D\n",
    "from tensorflow.keras.layers import Conv2D\n",
    "# Import Max pooling layer to extra maximum features\n",
    "from tensorflow.keras.layers import MaxPool2D\n",
    "# Importing Flatten Layer\n",
    "from tensorflow.keras.layers import Flatten"
   ]
  },
  {
   "cell_type": "code",
   "execution_count": 10,
   "id": "88958554",
   "metadata": {},
   "outputs": [],
   "source": [
    "# Intialising the model\n",
    "model=Sequential()"
   ]
  },
  {
   "cell_type": "code",
   "execution_count": 11,
   "id": "7f793751",
   "metadata": {},
   "outputs": [],
   "source": [
    "# Adding Convolutional Layer\n",
    "model.add(Conv2D( 32,3,3,input_shape=(64,64,3),activation='relu'))\n",
    "\n",
    "\n",
    "#1st param in conv2D = no of feature detectors(or say feature detector matrix) to form feature map\n",
    "#2nd,3rd param = size of feat.Detect(or say feature detector matrix size ie,. 3 X 3 here )\n",
    "#4th param = Expected image input shape(every img sould be of same size so here 64 X 64 and 3 means its an RGB img (2 means grayscale img and 1 for binary img(black and white))\n",
    "#5th param= Activation fun"
   ]
  },
  {
   "cell_type": "code",
   "execution_count": 12,
   "id": "12e2e465",
   "metadata": {},
   "outputs": [],
   "source": [
    "# Adding Max Pooling Layer\n",
    "model.add(MaxPool2D(pool_size=(2,2))) # 2,2 size of matrix"
   ]
  },
  {
   "cell_type": "code",
   "execution_count": 13,
   "id": "37684e57",
   "metadata": {},
   "outputs": [],
   "source": [
    "# Adding Flatten Layer\n",
    "model.add(Flatten())"
   ]
  },
  {
   "cell_type": "code",
   "execution_count": 14,
   "id": "9a54ae05",
   "metadata": {},
   "outputs": [
    {
     "name": "stdout",
     "output_type": "stream",
     "text": [
      "Model: \"sequential\"\n",
      "_________________________________________________________________\n",
      " Layer (type)                Output Shape              Param #   \n",
      "=================================================================\n",
      " conv2d (Conv2D)             (None, 21, 21, 32)        896       \n",
      "                                                                 \n",
      " max_pooling2d (MaxPooling2D  (None, 10, 10, 32)       0         \n",
      " )                                                               \n",
      "                                                                 \n",
      " flatten (Flatten)           (None, 3200)              0         \n",
      "                                                                 \n",
      "=================================================================\n",
      "Total params: 896\n",
      "Trainable params: 896\n",
      "Non-trainable params: 0\n",
      "_________________________________________________________________\n"
     ]
    }
   ],
   "source": [
    "model.summary()"
   ]
  },
  {
   "cell_type": "code",
   "execution_count": 15,
   "id": "a6f3e2ba",
   "metadata": {},
   "outputs": [],
   "source": [
    "# Adding Hidden Layer\n",
    "model.add(Dense(units=128,activation='relu',kernel_initializer='random_uniform'))"
   ]
  },
  {
   "cell_type": "code",
   "execution_count": 16,
   "id": "09e008b8",
   "metadata": {},
   "outputs": [],
   "source": [
    "# Adding Output Layer\n",
    "model.add(Dense(units=1,activation='sigmoid',kernel_initializer='random_uniform'))"
   ]
  },
  {
   "cell_type": "code",
   "execution_count": 17,
   "id": "c4c40993",
   "metadata": {},
   "outputs": [],
   "source": [
    "# Configure the Learning Process\n",
    "model.compile(optimizer='adam',loss='binary_crossentropy',metrics=['accuracy'])"
   ]
  },
  {
   "cell_type": "code",
   "execution_count": 18,
   "id": "8d144969",
   "metadata": {},
   "outputs": [
    {
     "name": "stderr",
     "output_type": "stream",
     "text": [
      "C:\\Users\\mohan\\AppData\\Local\\Temp\\ipykernel_14696\\3961316105.py:2: UserWarning: `Model.fit_generator` is deprecated and will be removed in a future version. Please use `Model.fit`, which supports generators.\n",
      "  model.fit_generator(x_train,steps_per_epoch=8,\n"
     ]
    },
    {
     "name": "stdout",
     "output_type": "stream",
     "text": [
      "Epoch 1/128\n",
      "8/8 [==============================] - 13s 1s/step - loss: 0.6492 - accuracy: 0.6542 - val_loss: 0.6533 - val_accuracy: 0.6667\n",
      "Epoch 2/128\n",
      "8/8 [==============================] - 7s 890ms/step - loss: 0.6340 - accuracy: 0.6667 - val_loss: 0.6625 - val_accuracy: 0.6667\n",
      "Epoch 3/128\n",
      "8/8 [==============================] - 7s 912ms/step - loss: 0.6345 - accuracy: 0.6667 - val_loss: 0.6585 - val_accuracy: 0.6667\n",
      "Epoch 4/128\n",
      "8/8 [==============================] - 8s 967ms/step - loss: 0.6282 - accuracy: 0.6667 - val_loss: 0.6653 - val_accuracy: 0.6667\n",
      "Epoch 5/128\n",
      "8/8 [==============================] - 8s 951ms/step - loss: 0.6327 - accuracy: 0.6667 - val_loss: 0.6713 - val_accuracy: 0.6667\n",
      "Epoch 6/128\n",
      "8/8 [==============================] - 7s 972ms/step - loss: 0.6212 - accuracy: 0.6667 - val_loss: 0.6920 - val_accuracy: 0.6667\n",
      "Epoch 7/128\n",
      "8/8 [==============================] - 7s 937ms/step - loss: 0.6195 - accuracy: 0.6667 - val_loss: 0.6751 - val_accuracy: 0.6667\n",
      "Epoch 8/128\n",
      "8/8 [==============================] - 8s 958ms/step - loss: 0.6174 - accuracy: 0.6667 - val_loss: 0.6994 - val_accuracy: 0.6667\n",
      "Epoch 9/128\n",
      "8/8 [==============================] - 7s 943ms/step - loss: 0.6257 - accuracy: 0.6583 - val_loss: 0.6898 - val_accuracy: 0.6333\n",
      "Epoch 10/128\n",
      "8/8 [==============================] - 7s 899ms/step - loss: 0.6143 - accuracy: 0.6708 - val_loss: 0.6900 - val_accuracy: 0.6667\n",
      "Epoch 11/128\n",
      "8/8 [==============================] - 7s 930ms/step - loss: 0.6146 - accuracy: 0.6625 - val_loss: 0.6892 - val_accuracy: 0.6500\n",
      "Epoch 12/128\n",
      "8/8 [==============================] - 7s 950ms/step - loss: 0.5950 - accuracy: 0.6708 - val_loss: 0.6993 - val_accuracy: 0.6500\n",
      "Epoch 13/128\n",
      "8/8 [==============================] - 7s 930ms/step - loss: 0.6034 - accuracy: 0.6708 - val_loss: 0.7111 - val_accuracy: 0.6000\n",
      "Epoch 14/128\n",
      "8/8 [==============================] - 7s 905ms/step - loss: 0.5970 - accuracy: 0.6917 - val_loss: 0.7381 - val_accuracy: 0.6333\n",
      "Epoch 15/128\n",
      "8/8 [==============================] - 7s 877ms/step - loss: 0.5948 - accuracy: 0.6958 - val_loss: 0.7067 - val_accuracy: 0.6000\n",
      "Epoch 16/128\n",
      "8/8 [==============================] - 7s 912ms/step - loss: 0.5914 - accuracy: 0.6917 - val_loss: 0.6809 - val_accuracy: 0.6333\n",
      "Epoch 17/128\n",
      "8/8 [==============================] - 8s 978ms/step - loss: 0.5893 - accuracy: 0.7042 - val_loss: 0.7610 - val_accuracy: 0.6333\n",
      "Epoch 18/128\n",
      "8/8 [==============================] - 7s 900ms/step - loss: 0.5939 - accuracy: 0.6833 - val_loss: 0.7444 - val_accuracy: 0.5833\n",
      "Epoch 19/128\n",
      "8/8 [==============================] - 7s 945ms/step - loss: 0.5863 - accuracy: 0.6958 - val_loss: 0.7372 - val_accuracy: 0.6167\n",
      "Epoch 20/128\n",
      "8/8 [==============================] - 8s 930ms/step - loss: 0.5846 - accuracy: 0.7042 - val_loss: 0.7514 - val_accuracy: 0.6167\n",
      "Epoch 21/128\n",
      "8/8 [==============================] - 7s 1s/step - loss: 0.5712 - accuracy: 0.6958 - val_loss: 0.7405 - val_accuracy: 0.6000\n",
      "Epoch 22/128\n",
      "8/8 [==============================] - 7s 936ms/step - loss: 0.5885 - accuracy: 0.6750 - val_loss: 0.7636 - val_accuracy: 0.6000\n",
      "Epoch 23/128\n",
      "8/8 [==============================] - 7s 947ms/step - loss: 0.5720 - accuracy: 0.7000 - val_loss: 0.7492 - val_accuracy: 0.5333\n",
      "Epoch 24/128\n",
      "8/8 [==============================] - 8s 975ms/step - loss: 0.5645 - accuracy: 0.7000 - val_loss: 0.7769 - val_accuracy: 0.5833\n",
      "Epoch 25/128\n",
      "8/8 [==============================] - 7s 947ms/step - loss: 0.5962 - accuracy: 0.7208 - val_loss: 0.7528 - val_accuracy: 0.5500\n",
      "Epoch 26/128\n",
      "8/8 [==============================] - 7s 955ms/step - loss: 0.6008 - accuracy: 0.6833 - val_loss: 0.7417 - val_accuracy: 0.5833\n",
      "Epoch 27/128\n",
      "8/8 [==============================] - 7s 922ms/step - loss: 0.6234 - accuracy: 0.6708 - val_loss: 0.7218 - val_accuracy: 0.6333\n",
      "Epoch 28/128\n",
      "8/8 [==============================] - 7s 979ms/step - loss: 0.6236 - accuracy: 0.6708 - val_loss: 0.7111 - val_accuracy: 0.6333\n",
      "Epoch 29/128\n",
      "8/8 [==============================] - 7s 953ms/step - loss: 0.5977 - accuracy: 0.7208 - val_loss: 0.7124 - val_accuracy: 0.5500\n",
      "Epoch 30/128\n",
      "8/8 [==============================] - 7s 915ms/step - loss: 0.5832 - accuracy: 0.7125 - val_loss: 0.7440 - val_accuracy: 0.6167\n",
      "Epoch 31/128\n",
      "8/8 [==============================] - 7s 980ms/step - loss: 0.5843 - accuracy: 0.7042 - val_loss: 0.7091 - val_accuracy: 0.6333\n",
      "Epoch 32/128\n",
      "8/8 [==============================] - 7s 913ms/step - loss: 0.5909 - accuracy: 0.7167 - val_loss: 0.7432 - val_accuracy: 0.6167\n",
      "Epoch 33/128\n",
      "8/8 [==============================] - 7s 917ms/step - loss: 0.5885 - accuracy: 0.6792 - val_loss: 0.7251 - val_accuracy: 0.6000\n",
      "Epoch 34/128\n",
      "8/8 [==============================] - 7s 919ms/step - loss: 0.5885 - accuracy: 0.7125 - val_loss: 0.7456 - val_accuracy: 0.5833\n",
      "Epoch 35/128\n",
      "8/8 [==============================] - 7s 903ms/step - loss: 0.5789 - accuracy: 0.6958 - val_loss: 0.7335 - val_accuracy: 0.5500\n",
      "Epoch 36/128\n",
      "8/8 [==============================] - 7s 961ms/step - loss: 0.5810 - accuracy: 0.7083 - val_loss: 0.7633 - val_accuracy: 0.6333\n",
      "Epoch 37/128\n",
      "8/8 [==============================] - 7s 902ms/step - loss: 0.6027 - accuracy: 0.6833 - val_loss: 0.7236 - val_accuracy: 0.5667\n",
      "Epoch 38/128\n",
      "8/8 [==============================] - 7s 912ms/step - loss: 0.5929 - accuracy: 0.7083 - val_loss: 0.7560 - val_accuracy: 0.6000\n",
      "Epoch 39/128\n",
      "8/8 [==============================] - 7s 932ms/step - loss: 0.5815 - accuracy: 0.7208 - val_loss: 0.7381 - val_accuracy: 0.6167\n",
      "Epoch 40/128\n",
      "8/8 [==============================] - 7s 912ms/step - loss: 0.5778 - accuracy: 0.6958 - val_loss: 0.7417 - val_accuracy: 0.6000\n",
      "Epoch 41/128\n",
      "8/8 [==============================] - 7s 959ms/step - loss: 0.5757 - accuracy: 0.7042 - val_loss: 0.7280 - val_accuracy: 0.5500\n",
      "Epoch 42/128\n",
      "8/8 [==============================] - 7s 895ms/step - loss: 0.5654 - accuracy: 0.7000 - val_loss: 0.7682 - val_accuracy: 0.6167\n",
      "Epoch 43/128\n",
      "8/8 [==============================] - 7s 957ms/step - loss: 0.5812 - accuracy: 0.6917 - val_loss: 0.7491 - val_accuracy: 0.6167\n",
      "Epoch 44/128\n",
      "8/8 [==============================] - 7s 903ms/step - loss: 0.5692 - accuracy: 0.7125 - val_loss: 0.7416 - val_accuracy: 0.5833\n",
      "Epoch 45/128\n",
      "8/8 [==============================] - 7s 895ms/step - loss: 0.5672 - accuracy: 0.7083 - val_loss: 0.7648 - val_accuracy: 0.5667\n",
      "Epoch 46/128\n",
      "8/8 [==============================] - 7s 902ms/step - loss: 0.5804 - accuracy: 0.6750 - val_loss: 0.7592 - val_accuracy: 0.5333\n",
      "Epoch 47/128\n",
      "8/8 [==============================] - 7s 905ms/step - loss: 0.5714 - accuracy: 0.7042 - val_loss: 0.7531 - val_accuracy: 0.5833\n",
      "Epoch 48/128\n",
      "8/8 [==============================] - 7s 963ms/step - loss: 0.5691 - accuracy: 0.7125 - val_loss: 0.7223 - val_accuracy: 0.6000\n",
      "Epoch 49/128\n",
      "8/8 [==============================] - 7s 910ms/step - loss: 0.5645 - accuracy: 0.7167 - val_loss: 0.7579 - val_accuracy: 0.5833\n",
      "Epoch 50/128\n",
      "8/8 [==============================] - 7s 966ms/step - loss: 0.5463 - accuracy: 0.7375 - val_loss: 0.7334 - val_accuracy: 0.6000\n",
      "Epoch 51/128\n",
      "8/8 [==============================] - 7s 873ms/step - loss: 0.5650 - accuracy: 0.7167 - val_loss: 0.7367 - val_accuracy: 0.5667\n",
      "Epoch 52/128\n",
      "8/8 [==============================] - 7s 891ms/step - loss: 0.5574 - accuracy: 0.7250 - val_loss: 0.7569 - val_accuracy: 0.5333\n",
      "Epoch 53/128\n",
      "8/8 [==============================] - 7s 914ms/step - loss: 0.5623 - accuracy: 0.7292 - val_loss: 0.7370 - val_accuracy: 0.6167\n",
      "Epoch 54/128\n",
      "8/8 [==============================] - 7s 923ms/step - loss: 0.5557 - accuracy: 0.7292 - val_loss: 0.7602 - val_accuracy: 0.5667\n",
      "Epoch 55/128\n",
      "8/8 [==============================] - 7s 887ms/step - loss: 0.5483 - accuracy: 0.7292 - val_loss: 0.7651 - val_accuracy: 0.6000\n",
      "Epoch 56/128\n",
      "8/8 [==============================] - 7s 904ms/step - loss: 0.5559 - accuracy: 0.7417 - val_loss: 0.7818 - val_accuracy: 0.5833\n",
      "Epoch 57/128\n",
      "8/8 [==============================] - 6s 803ms/step - loss: 0.5633 - accuracy: 0.7458 - val_loss: 0.7850 - val_accuracy: 0.5833\n",
      "Epoch 58/128\n",
      "8/8 [==============================] - 7s 943ms/step - loss: 0.5480 - accuracy: 0.7500 - val_loss: 0.7474 - val_accuracy: 0.5833\n",
      "Epoch 59/128\n",
      "8/8 [==============================] - 7s 912ms/step - loss: 0.5246 - accuracy: 0.7333 - val_loss: 0.7682 - val_accuracy: 0.5833\n",
      "Epoch 60/128\n",
      "8/8 [==============================] - 7s 915ms/step - loss: 0.5544 - accuracy: 0.7292 - val_loss: 0.7598 - val_accuracy: 0.6000\n",
      "Epoch 61/128\n",
      "8/8 [==============================] - 7s 902ms/step - loss: 0.5665 - accuracy: 0.7417 - val_loss: 0.7972 - val_accuracy: 0.6000\n",
      "Epoch 62/128\n",
      "8/8 [==============================] - 8s 1s/step - loss: 0.5496 - accuracy: 0.7542 - val_loss: 0.7667 - val_accuracy: 0.6167\n",
      "Epoch 63/128\n",
      "8/8 [==============================] - 7s 934ms/step - loss: 0.5397 - accuracy: 0.7375 - val_loss: 0.7658 - val_accuracy: 0.5667\n",
      "Epoch 64/128\n",
      "8/8 [==============================] - 7s 935ms/step - loss: 0.5370 - accuracy: 0.7417 - val_loss: 0.7487 - val_accuracy: 0.5833\n",
      "Epoch 65/128\n",
      "8/8 [==============================] - 7s 913ms/step - loss: 0.5241 - accuracy: 0.7458 - val_loss: 0.7483 - val_accuracy: 0.6167\n",
      "Epoch 66/128\n",
      "8/8 [==============================] - 7s 918ms/step - loss: 0.5603 - accuracy: 0.7417 - val_loss: 0.7654 - val_accuracy: 0.5333\n",
      "Epoch 67/128\n",
      "8/8 [==============================] - 7s 911ms/step - loss: 0.5602 - accuracy: 0.7500 - val_loss: 0.8642 - val_accuracy: 0.6333\n",
      "Epoch 68/128\n",
      "8/8 [==============================] - 7s 907ms/step - loss: 0.5611 - accuracy: 0.6875 - val_loss: 0.7525 - val_accuracy: 0.5500\n",
      "Epoch 69/128\n",
      "8/8 [==============================] - 7s 895ms/step - loss: 0.5464 - accuracy: 0.7750 - val_loss: 0.7511 - val_accuracy: 0.6500\n",
      "Epoch 70/128\n",
      "8/8 [==============================] - 7s 904ms/step - loss: 0.5479 - accuracy: 0.7250 - val_loss: 0.6986 - val_accuracy: 0.5667\n",
      "Epoch 71/128\n",
      "8/8 [==============================] - 7s 900ms/step - loss: 0.5370 - accuracy: 0.7458 - val_loss: 0.7760 - val_accuracy: 0.6167\n",
      "Epoch 72/128\n",
      "8/8 [==============================] - 7s 886ms/step - loss: 0.5064 - accuracy: 0.7625 - val_loss: 0.7983 - val_accuracy: 0.6000\n",
      "Epoch 73/128\n",
      "8/8 [==============================] - 6s 798ms/step - loss: 0.5185 - accuracy: 0.7625 - val_loss: 0.7054 - val_accuracy: 0.6000\n",
      "Epoch 74/128\n",
      "8/8 [==============================] - 81s 12s/step - loss: 0.5243 - accuracy: 0.7542 - val_loss: 0.7317 - val_accuracy: 0.5333\n",
      "Epoch 75/128\n",
      "8/8 [==============================] - 3s 404ms/step - loss: 0.5288 - accuracy: 0.7458 - val_loss: 0.7647 - val_accuracy: 0.5833\n",
      "Epoch 76/128\n",
      "8/8 [==============================] - 3s 411ms/step - loss: 0.5142 - accuracy: 0.7792 - val_loss: 0.7322 - val_accuracy: 0.6167\n",
      "Epoch 77/128\n",
      "8/8 [==============================] - 3s 360ms/step - loss: 0.5161 - accuracy: 0.7292 - val_loss: 0.7596 - val_accuracy: 0.5833\n",
      "Epoch 78/128\n",
      "8/8 [==============================] - 3s 374ms/step - loss: 0.5029 - accuracy: 0.7625 - val_loss: 0.7736 - val_accuracy: 0.5500\n",
      "Epoch 79/128\n",
      "8/8 [==============================] - 3s 387ms/step - loss: 0.5281 - accuracy: 0.7458 - val_loss: 0.7466 - val_accuracy: 0.5833\n",
      "Epoch 80/128\n",
      "8/8 [==============================] - 4s 459ms/step - loss: 0.5082 - accuracy: 0.7625 - val_loss: 0.7605 - val_accuracy: 0.5333\n",
      "Epoch 81/128\n",
      "8/8 [==============================] - 3s 337ms/step - loss: 0.5230 - accuracy: 0.7667 - val_loss: 0.7000 - val_accuracy: 0.6333\n",
      "Epoch 82/128\n",
      "8/8 [==============================] - 3s 374ms/step - loss: 0.5381 - accuracy: 0.7292 - val_loss: 0.7896 - val_accuracy: 0.6333\n",
      "Epoch 83/128\n",
      "8/8 [==============================] - 3s 377ms/step - loss: 0.5195 - accuracy: 0.7708 - val_loss: 0.7444 - val_accuracy: 0.6167\n",
      "Epoch 84/128\n",
      "8/8 [==============================] - 3s 353ms/step - loss: 0.5037 - accuracy: 0.7542 - val_loss: 0.7652 - val_accuracy: 0.6333\n",
      "Epoch 85/128\n",
      "8/8 [==============================] - 3s 357ms/step - loss: 0.5452 - accuracy: 0.7125 - val_loss: 0.7305 - val_accuracy: 0.5667\n",
      "Epoch 86/128\n",
      "8/8 [==============================] - 3s 420ms/step - loss: 0.5014 - accuracy: 0.7792 - val_loss: 0.7685 - val_accuracy: 0.6333\n",
      "Epoch 87/128\n",
      "8/8 [==============================] - 3s 347ms/step - loss: 0.5202 - accuracy: 0.7500 - val_loss: 0.6857 - val_accuracy: 0.6000\n",
      "Epoch 88/128\n",
      "8/8 [==============================] - 3s 347ms/step - loss: 0.4971 - accuracy: 0.7292 - val_loss: 0.7446 - val_accuracy: 0.6500\n",
      "Epoch 89/128\n",
      "8/8 [==============================] - 3s 328ms/step - loss: 0.5032 - accuracy: 0.7625 - val_loss: 0.6898 - val_accuracy: 0.5667\n",
      "Epoch 90/128\n",
      "8/8 [==============================] - 3s 323ms/step - loss: 0.4912 - accuracy: 0.7833 - val_loss: 0.7229 - val_accuracy: 0.5833\n",
      "Epoch 91/128\n",
      "8/8 [==============================] - 3s 449ms/step - loss: 0.5088 - accuracy: 0.7542 - val_loss: 0.7702 - val_accuracy: 0.6333\n",
      "Epoch 92/128\n",
      "8/8 [==============================] - 3s 399ms/step - loss: 0.5358 - accuracy: 0.7333 - val_loss: 0.7137 - val_accuracy: 0.5833\n",
      "Epoch 93/128\n",
      "8/8 [==============================] - 3s 335ms/step - loss: 0.4979 - accuracy: 0.7917 - val_loss: 0.7499 - val_accuracy: 0.6167\n",
      "Epoch 94/128\n",
      "8/8 [==============================] - 3s 366ms/step - loss: 0.4904 - accuracy: 0.7708 - val_loss: 0.7347 - val_accuracy: 0.6000\n",
      "Epoch 95/128\n",
      "8/8 [==============================] - 4s 447ms/step - loss: 0.4997 - accuracy: 0.7625 - val_loss: 0.6991 - val_accuracy: 0.6167\n",
      "Epoch 96/128\n",
      "8/8 [==============================] - 3s 344ms/step - loss: 0.5181 - accuracy: 0.7542 - val_loss: 0.7328 - val_accuracy: 0.5833\n",
      "Epoch 97/128\n",
      "8/8 [==============================] - 3s 358ms/step - loss: 0.4938 - accuracy: 0.7833 - val_loss: 0.7807 - val_accuracy: 0.6167\n",
      "Epoch 98/128\n",
      "8/8 [==============================] - 3s 419ms/step - loss: 0.5031 - accuracy: 0.7375 - val_loss: 0.6904 - val_accuracy: 0.6000\n",
      "Epoch 99/128\n",
      "8/8 [==============================] - 2s 335ms/step - loss: 0.4981 - accuracy: 0.7583 - val_loss: 0.7261 - val_accuracy: 0.6500\n",
      "Epoch 100/128\n",
      "8/8 [==============================] - 3s 357ms/step - loss: 0.4839 - accuracy: 0.7750 - val_loss: 0.7220 - val_accuracy: 0.5667\n",
      "Epoch 101/128\n",
      "8/8 [==============================] - 3s 398ms/step - loss: 0.4865 - accuracy: 0.7750 - val_loss: 0.7093 - val_accuracy: 0.6667\n",
      "Epoch 102/128\n",
      "8/8 [==============================] - 3s 397ms/step - loss: 0.4983 - accuracy: 0.7750 - val_loss: 0.7509 - val_accuracy: 0.5833\n",
      "Epoch 103/128\n",
      "8/8 [==============================] - 5s 592ms/step - loss: 0.5074 - accuracy: 0.7542 - val_loss: 0.7245 - val_accuracy: 0.6167\n",
      "Epoch 104/128\n",
      "8/8 [==============================] - 7s 858ms/step - loss: 0.5056 - accuracy: 0.7583 - val_loss: 0.7354 - val_accuracy: 0.6500\n",
      "Epoch 105/128\n",
      "8/8 [==============================] - 7s 895ms/step - loss: 0.5119 - accuracy: 0.7708 - val_loss: 0.6835 - val_accuracy: 0.5833\n",
      "Epoch 106/128\n",
      "8/8 [==============================] - 7s 910ms/step - loss: 0.4823 - accuracy: 0.7833 - val_loss: 0.7464 - val_accuracy: 0.6000\n",
      "Epoch 107/128\n",
      "8/8 [==============================] - 7s 940ms/step - loss: 0.4890 - accuracy: 0.7667 - val_loss: 0.7267 - val_accuracy: 0.6333\n",
      "Epoch 108/128\n",
      "8/8 [==============================] - 7s 898ms/step - loss: 0.4911 - accuracy: 0.7792 - val_loss: 0.6996 - val_accuracy: 0.5833\n",
      "Epoch 109/128\n",
      "8/8 [==============================] - 7s 977ms/step - loss: 0.4881 - accuracy: 0.7833 - val_loss: 0.7114 - val_accuracy: 0.6667\n",
      "Epoch 110/128\n",
      "8/8 [==============================] - 7s 1000ms/step - loss: 0.4691 - accuracy: 0.7833 - val_loss: 0.7271 - val_accuracy: 0.6667\n",
      "Epoch 111/128\n",
      "8/8 [==============================] - 7s 917ms/step - loss: 0.4797 - accuracy: 0.7708 - val_loss: 0.8094 - val_accuracy: 0.6167\n",
      "Epoch 112/128\n",
      "8/8 [==============================] - 7s 941ms/step - loss: 0.5040 - accuracy: 0.7208 - val_loss: 0.7028 - val_accuracy: 0.6000\n",
      "Epoch 113/128\n",
      "8/8 [==============================] - 7s 885ms/step - loss: 0.5010 - accuracy: 0.7708 - val_loss: 0.7430 - val_accuracy: 0.6500\n",
      "Epoch 114/128\n",
      "8/8 [==============================] - 7s 979ms/step - loss: 0.4680 - accuracy: 0.7917 - val_loss: 0.7468 - val_accuracy: 0.6000\n",
      "Epoch 115/128\n",
      "8/8 [==============================] - 7s 919ms/step - loss: 0.4781 - accuracy: 0.7875 - val_loss: 0.6807 - val_accuracy: 0.6667\n",
      "Epoch 116/128\n",
      "8/8 [==============================] - 7s 837ms/step - loss: 0.4766 - accuracy: 0.8125 - val_loss: 0.7238 - val_accuracy: 0.6167\n",
      "Epoch 117/128\n",
      "8/8 [==============================] - 7s 947ms/step - loss: 0.4766 - accuracy: 0.7750 - val_loss: 0.7141 - val_accuracy: 0.6167\n",
      "Epoch 118/128\n",
      "8/8 [==============================] - 7s 935ms/step - loss: 0.4754 - accuracy: 0.7750 - val_loss: 0.7569 - val_accuracy: 0.5833\n",
      "Epoch 119/128\n",
      "8/8 [==============================] - 7s 925ms/step - loss: 0.4734 - accuracy: 0.7625 - val_loss: 0.6915 - val_accuracy: 0.6000\n",
      "Epoch 120/128\n",
      "8/8 [==============================] - 8s 990ms/step - loss: 0.4701 - accuracy: 0.7500 - val_loss: 0.8016 - val_accuracy: 0.6167\n",
      "Epoch 121/128\n",
      "8/8 [==============================] - 7s 931ms/step - loss: 0.4606 - accuracy: 0.7875 - val_loss: 0.7923 - val_accuracy: 0.6667\n",
      "Epoch 122/128\n",
      "8/8 [==============================] - 8s 935ms/step - loss: 0.4755 - accuracy: 0.7458 - val_loss: 0.6995 - val_accuracy: 0.6167\n",
      "Epoch 123/128\n",
      "8/8 [==============================] - 7s 919ms/step - loss: 0.4666 - accuracy: 0.7917 - val_loss: 0.7363 - val_accuracy: 0.6500\n",
      "Epoch 124/128\n",
      "8/8 [==============================] - 7s 928ms/step - loss: 0.5141 - accuracy: 0.7083 - val_loss: 0.7679 - val_accuracy: 0.6333\n",
      "Epoch 125/128\n",
      "8/8 [==============================] - 7s 956ms/step - loss: 0.4648 - accuracy: 0.7917 - val_loss: 0.7151 - val_accuracy: 0.6167\n",
      "Epoch 126/128\n",
      "8/8 [==============================] - 7s 916ms/step - loss: 0.4576 - accuracy: 0.8083 - val_loss: 0.7757 - val_accuracy: 0.6333\n",
      "Epoch 127/128\n",
      "8/8 [==============================] - 7s 945ms/step - loss: 0.4438 - accuracy: 0.7958 - val_loss: 0.7845 - val_accuracy: 0.6333\n",
      "Epoch 128/128\n",
      "8/8 [==============================] - 7s 900ms/step - loss: 0.4434 - accuracy: 0.8042 - val_loss: 0.7609 - val_accuracy: 0.6667\n"
     ]
    },
    {
     "data": {
      "text/plain": [
       "<keras.callbacks.History at 0x1da4af1c160>"
      ]
     },
     "execution_count": 18,
     "metadata": {},
     "output_type": "execute_result"
    }
   ],
   "source": [
    "# Training the model\n",
    "model.fit_generator(x_train,steps_per_epoch=8,\n",
    "                    validation_data=x_test,epochs=128,\n",
    "                    validation_steps=2)"
   ]
  },
  {
   "cell_type": "code",
   "execution_count": 19,
   "id": "ddfb8ef5",
   "metadata": {},
   "outputs": [],
   "source": [
    "# Saving the trained model with .h5 extension\n",
    "model.save('Missing.h5')"
   ]
  },
  {
   "cell_type": "code",
   "execution_count": 20,
   "id": "3d0a56a8",
   "metadata": {},
   "outputs": [],
   "source": [
    "# Importing the Model Libraries\n",
    "import cv2\n",
    "import numpy as np\n",
    "import smtplib\n",
    "from keras.preprocessing import image\n",
    "import tensorflow as tf\n",
    "import os\n",
    "name = [\"Found Missing\",\"Normal\"]\n"
   ]
  },
  {
   "cell_type": "code",
   "execution_count": 26,
   "id": "4b367b4e",
   "metadata": {},
   "outputs": [],
   "source": [
    "# Loading the Saved model\n",
    "model = tf.keras.models.load_model('Missing.h5')"
   ]
  },
  {
   "cell_type": "code",
   "execution_count": 35,
   "id": "fca4dd7f",
   "metadata": {},
   "outputs": [],
   "source": [
    "# Giving Random Image Path\n",
    "from PIL import Image\n",
    "\n",
    "img = Image.open(r\"C:\\Users\\mohan\\Downloads\\testset\\Found Missing\\gettyimages-1158031528-612x612.jpg\")\n",
    "img = img.resize((64, 64))  # Resizing the image\n",
    "x = np.array(img)\n",
    "x = np.expand_dims(x, axis=0)\n"
   ]
  },
  {
   "cell_type": "code",
   "execution_count": 38,
   "id": "b53ae738",
   "metadata": {},
   "outputs": [
    {
     "name": "stdout",
     "output_type": "stream",
     "text": [
      "1/1 [==============================] - 0s 58ms/step\n"
     ]
    }
   ],
   "source": [
    "# Classes of Prediction\n",
    "pred = model.predict(x)\n",
    "pred_classes = pred.argmax(axis=-1)\n",
    "\n"
   ]
  },
  {
   "cell_type": "code",
   "execution_count": 39,
   "id": "4e85281c",
   "metadata": {},
   "outputs": [
    {
     "data": {
      "text/plain": [
       "1.0"
      ]
     },
     "execution_count": 39,
     "metadata": {},
     "output_type": "execute_result"
    }
   ],
   "source": [
    "pred[0][0]"
   ]
  },
  {
   "cell_type": "code",
   "execution_count": 1,
   "id": "f46b957f",
   "metadata": {
    "scrolled": true
   },
   "outputs": [
    {
     "name": "stdout",
     "output_type": "stream",
     "text": [
      "1/1 [==============================] - 0s 437ms/step\n",
      "0\n",
      "SM8d7f1921b97010a2256b2c6ee1303a16\n",
      "Found Missing\n",
      "SMS Sent\n"
     ]
    }
   ],
   "source": [
    "import cv2\n",
    "import numpy as np\n",
    "from keras.preprocessing import image\n",
    "import tensorflow as tf\n",
    "from twilio.rest import Client\n",
    "from PIL import Image\n",
    "\n",
    "model = tf.keras.models.load_model('Missing.h5')\n",
    "name = [\"Found Missing\", \"Normal\"]\n",
    "\n",
    "# Load the image\n",
    "img = Image.open(r\"C:\\Users\\mohan\\Downloads\\testset\\Found Missing\\gettyimages-1158031528-612x612.jpg\")\n",
    "img = img.resize((64, 64))  # Resize the image\n",
    "x = np.array(img)\n",
    "x = np.expand_dims(x, axis=0)\n",
    "\n",
    "# Predict the image\n",
    "pred = model.predict(x)\n",
    "pred_class = np.argmax(pred, axis=1)[0]\n",
    "print(pred_class)\n",
    "\n",
    "if pred_class == 0:\n",
    "    from twilio.rest import Client\n",
    "    account_sid = 'ACc36f587b05c6cae6b4e87a0e72dbc9ed'\n",
    "    auth_token = '6be1180990b5c13b870147323b7303fc'\n",
    "    client = Client(account_sid, auth_token)\n",
    "    message = client.messages.create(\n",
    "    to='+916303031647',\n",
    "        from_='+14175282474',\n",
    "    body='Found the Missing at 17.3984° N, 78.5583° E'\n",
    "    )\n",
    "    print(message.sid)\n",
    "    print(\"Found Missing\")\n",
    "    print('SMS Sent')\n",
    "else:\n",
    "    print(\"Normal\")\n",
    "    \n",
    "    \n"
   ]
  },
  {
   "cell_type": "code",
   "execution_count": 43,
   "id": "c69e72ac",
   "metadata": {},
   "outputs": [
    {
     "name": "stdout",
     "output_type": "stream",
     "text": [
      "Requirement already satisfied: twilio in c:\\users\\mohan\\anaconda3\\lib\\site-packages (8.4.0)\n",
      "Requirement already satisfied: pytz in c:\\users\\mohan\\anaconda3\\lib\\site-packages (from twilio) (2022.1)\n",
      "Requirement already satisfied: requests>=2.0.0 in c:\\users\\mohan\\anaconda3\\lib\\site-packages (from twilio) (2.28.1)\n",
      "Requirement already satisfied: PyJWT<3.0.0,>=2.0.0 in c:\\users\\mohan\\anaconda3\\lib\\site-packages (from twilio) (2.4.0)\n",
      "Requirement already satisfied: aiohttp-retry>=2.8.3 in c:\\users\\mohan\\anaconda3\\lib\\site-packages (from twilio) (2.8.3)\n",
      "Requirement already satisfied: aiohttp>=3.8.4 in c:\\users\\mohan\\anaconda3\\lib\\site-packages (from twilio) (3.8.4)\n",
      "Requirement already satisfied: attrs>=17.3.0 in c:\\users\\mohan\\anaconda3\\lib\\site-packages (from aiohttp>=3.8.4->twilio) (21.4.0)\n",
      "Requirement already satisfied: async-timeout<5.0,>=4.0.0a3 in c:\\users\\mohan\\anaconda3\\lib\\site-packages (from aiohttp>=3.8.4->twilio) (4.0.2)\n",
      "Requirement already satisfied: multidict<7.0,>=4.5 in c:\\users\\mohan\\anaconda3\\lib\\site-packages (from aiohttp>=3.8.4->twilio) (6.0.4)\n",
      "Requirement already satisfied: frozenlist>=1.1.1 in c:\\users\\mohan\\anaconda3\\lib\\site-packages (from aiohttp>=3.8.4->twilio) (1.3.3)\n",
      "Requirement already satisfied: aiosignal>=1.1.2 in c:\\users\\mohan\\anaconda3\\lib\\site-packages (from aiohttp>=3.8.4->twilio) (1.3.1)\n",
      "Requirement already satisfied: yarl<2.0,>=1.0 in c:\\users\\mohan\\anaconda3\\lib\\site-packages (from aiohttp>=3.8.4->twilio) (1.9.2)\n",
      "Requirement already satisfied: charset-normalizer<4.0,>=2.0 in c:\\users\\mohan\\anaconda3\\lib\\site-packages (from aiohttp>=3.8.4->twilio) (2.0.4)\n",
      "Requirement already satisfied: certifi>=2017.4.17 in c:\\users\\mohan\\anaconda3\\lib\\site-packages (from requests>=2.0.0->twilio) (2022.9.14)\n",
      "Requirement already satisfied: urllib3<1.27,>=1.21.1 in c:\\users\\mohan\\anaconda3\\lib\\site-packages (from requests>=2.0.0->twilio) (1.26.11)\n",
      "Requirement already satisfied: idna<4,>=2.5 in c:\\users\\mohan\\anaconda3\\lib\\site-packages (from requests>=2.0.0->twilio) (3.3)\n",
      "Note: you may need to restart the kernel to use updated packages.\n"
     ]
    },
    {
     "name": "stderr",
     "output_type": "stream",
     "text": [
      "WARNING: Ignoring invalid distribution -treamlit (c:\\users\\mohan\\anaconda3\\lib\\site-packages)\n",
      "WARNING: Ignoring invalid distribution -treamlit (c:\\users\\mohan\\anaconda3\\lib\\site-packages)\n",
      "WARNING: Ignoring invalid distribution -treamlit (c:\\users\\mohan\\anaconda3\\lib\\site-packages)\n",
      "WARNING: Ignoring invalid distribution -treamlit (c:\\users\\mohan\\anaconda3\\lib\\site-packages)\n",
      "WARNING: Ignoring invalid distribution -treamlit (c:\\users\\mohan\\anaconda3\\lib\\site-packages)\n",
      "WARNING: Ignoring invalid distribution -treamlit (c:\\users\\mohan\\anaconda3\\lib\\site-packages)\n"
     ]
    }
   ],
   "source": [
    "pip install twilio"
   ]
  }
 ],
 "metadata": {
  "kernelspec": {
   "display_name": "Python 3 (ipykernel)",
   "language": "python",
   "name": "python3"
  },
  "language_info": {
   "codemirror_mode": {
    "name": "ipython",
    "version": 3
   },
   "file_extension": ".py",
   "mimetype": "text/x-python",
   "name": "python",
   "nbconvert_exporter": "python",
   "pygments_lexer": "ipython3",
   "version": "3.9.13"
  }
 },
 "nbformat": 4,
 "nbformat_minor": 5
}
